{
 "cells": [
  {
   "cell_type": "markdown",
   "id": "a46db154-3836-4259-b222-be8742e732a7",
   "metadata": {},
   "source": [
    " "
   ]
  },
  {
   "cell_type": "markdown",
   "id": "19158ee6-d78d-4491-ac2d-7893eaa9be63",
   "metadata": {},
   "source": [
    "> **Project Title:** Smart Rental Pricing and Recommendation System for Ghana<br>\n",
    "> **Project Owner:** David Adarkwah<br>\n",
    "> **Github Profile:** [Github](https://github.com/adark-d)<br>\n",
    "> **LinkedIn Profile:** [Linkedin](https://www.linkedin.com/in/d-adark/) "
   ]
  },
  {
   "cell_type": "markdown",
   "id": "d37850ba-a630-415c-9027-778cc2ea6cad",
   "metadata": {},
   "source": [
    " "
   ]
  },
  {
   "cell_type": "markdown",
   "id": "55e2dc91-ce30-410a-bb4a-98b6e7292a9d",
   "metadata": {},
   "source": [
    "### Table of Contents<a id='mu'></a>\n",
    "\n",
    "* [Problem Statement](#ps)\n",
    "* [Supporting Statistics & Evidence](#sse)\n",
    "* [Why This Is a Problem](#wtp)\n",
    "* [Project Goal](#pg)\n",
    "* [Use Cases & Stakeholders](#ush)\n",
    "* [Dataset](#ds)\n",
    "* [Methodology](#my)\n",
    "* [Core Features](#cf)\n",
    "* [Technology Stack](#ts)\n",
    "* [KPIs & Evaluation Metrics](#kem)"
   ]
  },
  {
   "cell_type": "markdown",
   "id": "1fb6dd69-ee4e-4a2a-8fd1-7265e2dd2539",
   "metadata": {},
   "source": [
    " "
   ]
  },
  {
   "cell_type": "markdown",
   "id": "2f66a533-5359-4ca0-95f4-0be5e1463820",
   "metadata": {},
   "source": [
    "#### Problem Statement<a id='ps'></a>\n",
    "\n",
    "[Move Up](#mu)\n",
    "\n",
    "\n",
    "Ghana’s rental housing market is highly fragmented, informal, and lacks pricing transparency. With no standardized pricing mechanisms or centralized listings platform, most tenants and landlords rely on guesswork, agent recommendations, or informal networks such as WhatsApp groups and roadside signboards to determine rental prices.\n",
    "\n",
    "This lack of structure has led to:\n",
    "\n",
    "- Widespread pricing inconsistencies\n",
    "- Overpricing in prime locations\n",
    "- Undervaluation in less visible areas\n",
    "- Longer listing times and tenant frustrations\n",
    "- Missed investment opportunities due to poor data visibility"
   ]
  },
  {
   "cell_type": "markdown",
   "id": "507e4a2d-f536-4098-b796-57e7ac1aeb51",
   "metadata": {},
   "source": [
    " "
   ]
  },
  {
   "cell_type": "markdown",
   "id": "cc1f6249-0006-4b86-9a6f-2157d17458f3",
   "metadata": {},
   "source": [
    " #### Supporting Statistics & Evidence<a id='sse'></a>\n",
    "\n",
    "[Move Up](#mu)\n",
    "\n",
    "| Key Insight                     | Data Point / Source                                                                                      |\n",
    "|----------------------------------|----------------------------------------------------------------------------------------------------------|\n",
    "| Rising Urban Demand           | Ghana’s urban population rose from 50% in 2010 to over 58% in 2022 — driven by migration & job search   |\n",
    "| Housing Deficit               | Ghana faces a housing deficit of over **1.8 million units** *(Ministry of Works & Housing)*             |\n",
    "| Rent as % of Income           | Rent in urban areas consumes up to **40–60%** of monthly income for lower-middle class tenants *(GSS)*  |\n",
    "| Price Inconsistency           | Rent for similar 2-bed apartments in Accra can vary by over **400%** depending on listing source        |\n",
    "| Informal Market Dependence    | Over **65% of rentals** are advertised informally *(WhatsApp, signs, agents)*                           |\n",
    "| Agent-Driven Pricing          | Most landlords set prices based on agent intuition, with no data benchmark                              |\n",
    "\n",
    "<br>\n",
    "\n",
    "\n",
    "<p style=\"text-align:center;\"><b>Sources:</b> Ghana Statistical Service (GSS), Ministry of Works & Housing, World Bank Urbanization Review, Jiji Ghana, MeQasa, Tonaton</p>"
   ]
  },
  {
   "cell_type": "markdown",
   "id": "0014b954-7bb1-4ca2-8180-0ede24453572",
   "metadata": {},
   "source": [
    " "
   ]
  },
  {
   "cell_type": "markdown",
   "id": "70527641-28f3-4dc0-8a5a-26e0c1d03c4d",
   "metadata": {},
   "source": [
    "#### Why This Is a Problem<a id='wtp'></a>\n",
    "\n",
    "[Move Up](#mu)\n",
    "\n",
    "- There is no pricing transparency. As such, tenants can’t determine if a listing is overpriced, and landlords often price arbitrarily.\n",
    "- No platform to analyze trends, recommend better alternatives, or visualize market dynamics.\n",
    "- Also, informal listings and lack of data make it difficult for policymakers to understand supply-demand dynamics.\n",
    "- Agents dominate pricing decisions, introducing bias and inefficiency."
   ]
  },
  {
   "cell_type": "markdown",
   "id": "72233452-7ac9-47c7-b0dd-b3e5c08bf410",
   "metadata": {},
   "source": [
    " "
   ]
  },
  {
   "cell_type": "markdown",
   "id": "25a36faf-2072-4f86-9095-e51ed9eb0128",
   "metadata": {},
   "source": [
    " #### Project Goal<a id='pg'></a>\n",
    "\n",
    "[Move Up](#mu)\n",
    "\n",
    "The main goal of this project is to build a data-driven rental intelligence system to help:\n",
    "\n",
    "- Tenants find fairly priced homes\n",
    "- Landlords/Agents set competitive prices\n",
    "- Investors identify high-growth neighborhoods\n",
    "- Policy Makers understand housing gaps"
   ]
  },
  {
   "cell_type": "markdown",
   "id": "0932edf8-f569-40ca-bcbc-87bef9978e37",
   "metadata": {},
   "source": [
    " "
   ]
  },
  {
   "cell_type": "markdown",
   "id": "4803e0db-0bf9-473a-9aeb-dfe288c2cb35",
   "metadata": {},
   "source": [
    " #### Use Cases & Stakeholders<a id='ush'></a>\n",
    "\n",
    "[Move Up](#mu)\n",
    "\n",
    "| Use Case                  | Stakeholder          | Value                                                       |\n",
    "|---------------------------|----------------------|-------------------------------------------------------------|\n",
    "| Get rent estimate         | Tenants              | Avoid overpaying, compare listings easily                   |\n",
    "| Smart pricing assistant   | Landlords/Agents     | Set optimal rental prices, faster property turnover         |\n",
    "| Explore rental trends     | Investors            | Identify hotspots for high ROI                             |\n",
    "| Personalized search       | Renters              | Discover suitable listings efficiently                      |\n",
    "| Supply-demand dashboard   | Policy Makers / NGOs | Gain insights into affordability and availability trends    |\n"
   ]
  },
  {
   "cell_type": "markdown",
   "id": "38947c91-3006-4d71-bb9f-be041ec6d772",
   "metadata": {},
   "source": [
    " "
   ]
  },
  {
   "cell_type": "markdown",
   "id": "ac7b8317-22df-4090-b400-238ad7a109bc",
   "metadata": {},
   "source": [
    " #### Core Features<a id='cf'></a>\n",
    "\n",
    "[Move Up](#mu)\n",
    "\n",
    "| Feature                  | Description                                                                 |\n",
    "|--------------------------|-----------------------------------------------------------------------------|\n",
    "| Price Prediction API   | Predicts rental prices based on features like location, size, and amenities |\n",
    "| Property Recommender   | Suggests similar or better-value listings                                   |\n",
    "| Trend Dashboard        | Interactive heatmaps and trend lines for pricing across neighborhoods       |\n",
    "| NLP Listing Insights   | (Optional) Auto-summarize or evaluate listing quality                       |\n"
   ]
  },
  {
   "cell_type": "markdown",
   "id": "ff7ce547-3011-4d86-98bb-b0050029a4d9",
   "metadata": {},
   "source": [
    " "
   ]
  },
  {
   "cell_type": "markdown",
   "id": "83e7d89e-3ac9-4e01-8158-2342668b9e2b",
   "metadata": {},
   "source": [
    " "
   ]
  },
  {
   "cell_type": "markdown",
   "id": "54dbac20-0f7a-4427-9740-6db97fba7fae",
   "metadata": {},
   "source": [
    " #### Dataset<a id='ds'></a>\n",
    "\n",
    "[Move Up](#mu)\n",
    "\n",
    "| Component         | Description                                                                 |\n",
    "|-------------------|-----------------------------------------------------------------------------|\n",
    "| Source            | Scraped from [Jiji Ghana - Houses & Apartments for Rent](https://jiji.com.gh/) |\n",
    "| Format            | JSON/CSV records with fields: title, price, location, bedrooms, bathrooms, amenities, date posted, URL |\n",
    "| Frequency         | Scraped weekly via Airflow/Cron                                    |\n",
    "| Storage           | Raw data stored with timestamps in AWS S3 bucket |\n",
    "| Enrichment        | Geocoded neighborhoods using GeoPy, normalized amenities, converted prices  |\n",
    "| Volume (Estimate) | ~500–1000+ listings per scrape, depending on frequency and filtering        |"
   ]
  },
  {
   "cell_type": "markdown",
   "id": "792be891-216d-48fa-bb47-808c936a5de1",
   "metadata": {},
   "source": [
    " "
   ]
  },
  {
   "cell_type": "markdown",
   "id": "42dae23d-9dc3-4ac3-b423-aac6ceaa4da2",
   "metadata": {},
   "source": [
    " #### Methodology<a id='my'></a>\n",
    "\n",
    "[Move Up](#mu)\n",
    "\n",
    "| Step                       | Description                                                                 |\n",
    "|----------------------------|-----------------------------------------------------------------------------|\n",
    "| 1. Scraping                | Use Selenium to scrape property listings from Jiji Ghana                     |\n",
    "| 2. Raw Storage             | Save listings as JSON/CSV in local/S3-bucket             |\n",
    "| 3. Cleaning & Normalization| Standardize text, fill missing values, deduplicate, parse locations         |\n",
    "| 4. Feature Engineering     | Create new variables: price per m², amenity count, neighborhood zones       |\n",
    "| 5. Model Training          | Use machine learning to predict rental prices       |\n",
    "| 6. Recommendations         | Use content-based filtering or similarity scoring to suggest properties     |\n",
    "| 7. API Deployment          | Serve predictions and recommendations via FastAPI                           |\n",
    "| 8. Dashboarding            | Build Streamlit app for trend visualization and user insights                |\n",
    "| 9. Monitoring              | Track drift, prediction errors, API usage via Evidently AI, MLflow & Airflow               |"
   ]
  },
  {
   "cell_type": "markdown",
   "id": "7e7e1046-4afe-4ece-a002-c591e2a59f8f",
   "metadata": {},
   "source": [
    " "
   ]
  },
  {
   "cell_type": "markdown",
   "id": "eb4779ee-19fd-43d1-9b7e-ea6ff2dcf8a5",
   "metadata": {},
   "source": [
    " #### Technology Stack<a id='ts'></a>\n",
    "\n",
    "[Move Up](#mu)\n",
    "\n",
    "| Layer               | Tools                                                                 |\n",
    "|---------------------|-----------------------------------------------------------------------|\n",
    "| Web & Data Scraping       | Selenium, Beautifulsoup                                                              |\n",
    "| Data Storage        | PostgreSQL, AWS S3                              |\n",
    "| ORM & Migrations    | SQLAlchemy, Alembic                                                   |\n",
    "| Configuration       | Dynaconf, .env, yaml                                                        |\n",
    "| Automation          | Makefile, Shell scripts                                                              |\n",
    "| Code Quality        | Ruff (linting), Black (formatting)                                    |\n",
    "| Logging             | Loguru                                                                |\n",
    "| Orchestration       | Airflow                                                     |\n",
    "| Modeling            | XGBoost, CatBoost, SHAP, scikit-learn                                |\n",
    "| Model Tracking      | MLflow                                                      |\n",
    "| API Layer           | FastAPI                                                               |\n",
    "| Dashboards          | Streamlit, Plotly, GeoPandas                               |\n",
    "| Deployment          | Docker, AWS ECS                                   |\n",
    "| CI/CD               | GitHub Actions                                             |\n",
    "| Monitoring          | MLflow, Evidently AI, ZenML   |"
   ]
  },
  {
   "cell_type": "markdown",
   "id": "f84ea72e-f513-48cb-99fe-1917fb3cc1c7",
   "metadata": {},
   "source": [
    " "
   ]
  },
  {
   "cell_type": "markdown",
   "id": "c353122b-263b-422c-b0dc-6d3119878703",
   "metadata": {},
   "source": [
    " #### KPIs & Evaluation Metrics<a id='kem'></a>\n",
    "\n",
    "[Move Up](#mu)\n",
    "\n",
    "| Component             | Metric                                                              |\n",
    "|-----------------------|---------------------------------------------------------------------|\n",
    "| Price Prediction      | MAE, RMSE,                                            |\n",
    "| Recommendation Engine| Precision@K, Recall@K, Listing Diversity                             |\n",
    "| Data Freshness        | % of listings updated weekly                                         |\n",
    "| Model Drift           | Distribution shift, prediction deviation                            |\n",
    "| System Health         | API latency, uptime, error rate        |   "
   ]
  },
  {
   "cell_type": "markdown",
   "id": "9f1fa5d6-f3bd-4237-86da-cf336ac9a9c3",
   "metadata": {},
   "source": [
    " "
   ]
  },
  {
   "cell_type": "markdown",
   "id": "de1ddc3d-d18d-444d-abcf-f2297d91e924",
   "metadata": {},
   "source": [
    " "
   ]
  },
  {
   "cell_type": "markdown",
   "id": "43cfd71a-892c-4148-ac16-9edc56bcaf19",
   "metadata": {},
   "source": [
    " "
   ]
  }
 ],
 "metadata": {
  "kernelspec": {
   "display_name": "Python 3 (ipykernel)",
   "language": "python",
   "name": "python3"
  },
  "language_info": {
   "codemirror_mode": {
    "name": "ipython",
    "version": 3
   },
   "file_extension": ".py",
   "mimetype": "text/x-python",
   "name": "python",
   "nbconvert_exporter": "python",
   "pygments_lexer": "ipython3",
   "version": "3.11.10"
  }
 },
 "nbformat": 4,
 "nbformat_minor": 5
}
